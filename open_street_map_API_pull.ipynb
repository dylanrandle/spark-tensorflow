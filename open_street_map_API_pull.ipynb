{
 "cells": [
  {
   "cell_type": "code",
   "execution_count": 3,
   "metadata": {},
   "outputs": [],
   "source": [
    "import requests\n",
    "import json\n",
    "import pandas as pd\n",
    "from urllib.parse import quote\n",
    "from tqdm import tqdm_notebook as tqdm"
   ]
  },
  {
   "cell_type": "code",
   "execution_count": 4,
   "metadata": {},
   "outputs": [],
   "source": [
    "consumer_key = 'k3bxSsbVg9UK4nlHw5awgu1YEydyVFe5ru72zYbJ'\n",
    "consumer_secret = 'nnjCIL5Tjb5Gx7KuBScek7ShtdR4KDEOyg0i5joA'"
   ]
  },
  {
   "cell_type": "code",
   "execution_count": 5,
   "metadata": {},
   "outputs": [],
   "source": [
    "MY_API_KEY = consumer_key #  Replace this with your real API key"
   ]
  },
  {
   "cell_type": "code",
   "execution_count": 143,
   "metadata": {},
   "outputs": [],
   "source": [
    "def request(host, path, api_key, url_params=None,verbose=False):\n",
    "    \"\"\"Given your API_KEY, send a GET request to the API.\n",
    "    Args:\n",
    "        host (str): The domain host of the API.\n",
    "        path (str): The path of the API after the domain.\n",
    "        API_KEY (str): Your API Key.\n",
    "        url_params (dict): An optional set of query parameters in the request.\n",
    "    Returns:\n",
    "        dict: The JSON response from the request.\n",
    "    Raises:\n",
    "        HTTPError: An error occurs from the HTTP request.\n",
    "    \"\"\"\n",
    "    url_params = url_params or {}\n",
    "    url = '{0}{1}'.format(host, quote(path.encode('utf8')))\n",
    "    headers = {\n",
    "        'Authorization': 'Bearer %s' % api_key,\n",
    "    }\n",
    "    \n",
    "    if verbose:\n",
    "        print(u'Querying {0} ...'.format(url))\n",
    "\n",
    "    response = requests.request('GET', url, headers=headers, params=url_params)\n",
    "\n",
    "    return response.json()"
   ]
  },
  {
   "cell_type": "code",
   "execution_count": 141,
   "metadata": {},
   "outputs": [],
   "source": [
    "def search(api_key, term, attribute=None, location=None, lat = None, \\\n",
    "           long=None,radius = None,verbose = False):\n",
    "    \"\"\"Query the Search API by a search term and location.\n",
    "    Args:\n",
    "        term (str): The search term passed to the API.\n",
    "        location (str): The search location passed to the API.\n",
    "    Returns:\n",
    "        dict: The JSON response from the request.\n",
    "    \"\"\"\n",
    "    \n",
    "    if lat ==None or long == None:\n",
    "        \n",
    "        url_params = {\n",
    "            'term': term.replace(' ', '+'),\n",
    "            'location': location.replace(' ', '+'),\n",
    "            'attributes':attribute.replace(' ', '+'),\n",
    "            'radius':radius,\n",
    "            'limit': SEARCH_LIMIT\n",
    "        }\n",
    "    else:\n",
    "        url_params = {\n",
    "            'term': term.replace(' ', '+'),\n",
    "            'latitude':lat,\n",
    "            'longitude':long,\n",
    "            'radius':radius,\n",
    "            'attributes':attribute.replace(' ', '+'),\n",
    "            'limit': SEARCH_LIMIT\n",
    "        }\n",
    "    if verbose:\n",
    "        print(url_params)\n",
    "    return request(API_HOST, SEARCH_PATH, api_key, url_params=url_params,verbose = verbose)"
   ]
  },
  {
   "cell_type": "code",
   "execution_count": 127,
   "metadata": {},
   "outputs": [],
   "source": [
    "def reviews(api_key, id_biz):\n",
    "    \"\"\"Query the Reviews API by a business ID.\n",
    "    Args:\n",
    "        term (str): The search term passed to the API.\n",
    "        location (str): The search location passed to the API.\n",
    "    Returns:\n",
    "        dict: The JSON response from the request.\n",
    "    \"\"\"\n",
    "    REVIEWS_PATH = f'v3/businesses/{id_biz}/reviews'\n",
    "    url_params = {\n",
    "            'limit': None\n",
    "        }\n",
    "    print(REVIEWS_PATH)\n",
    "    return request(API_HOST, REVIEWS_PATH, api_key, url_params=url_params)"
   ]
  },
  {
   "cell_type": "code",
   "execution_count": 122,
   "metadata": {},
   "outputs": [],
   "source": [
    "API_HOST = 'https://api.yelp.com'\n",
    "SEARCH_PATH = '/v3/businesses/search'\n",
    "SEARCH_LIMIT = 50"
   ]
  },
  {
   "cell_type": "code",
   "execution_count": 123,
   "metadata": {},
   "outputs": [
    {
     "name": "stdout",
     "output_type": "stream",
     "text": [
      "{'term': 'food', 'latitude': 37.840598, 'longitude': -122.254436, 'radius': 1000, 'attributes': 'hot_and_new', 'limit': 50}\n",
      "Querying https://api.yelp.com/v3/businesses/search ...\n"
     ]
    }
   ],
   "source": [
    "res = search(api_key,term = 'food', attribute='hot_and_new',lat = lat, long = lng, radius = 1000)"
   ]
  },
  {
   "cell_type": "code",
   "execution_count": null,
   "metadata": {},
   "outputs": [],
   "source": [
    "id_biz = '5TuE4wRGpwjQM-WcjDklpA'\n",
    "reviews(api_key,id_biz);"
   ]
  },
  {
   "cell_type": "code",
   "execution_count": 115,
   "metadata": {},
   "outputs": [
    {
     "name": "stdout",
     "output_type": "stream",
     "text": [
      "1011.9167215061187\n",
      "811.3754405090626\n",
      "1292.5865445127204\n",
      "1641.6172004957943\n",
      "875.4180880290585\n",
      "1780.1066316725305\n",
      "1756.4210293919255\n",
      "1958.0961009098012\n"
     ]
    }
   ],
   "source": [
    "for biz in res['businesses']:\n",
    "    print(biz['distance'])"
   ]
  },
  {
   "cell_type": "code",
   "execution_count": 144,
   "metadata": {},
   "outputs": [
    {
     "data": {
      "application/vnd.jupyter.widget-view+json": {
       "model_id": "f2b621d054f04efbac448fbb7d890ce2",
       "version_major": 2,
       "version_minor": 0
      },
      "text/plain": [
       "HBox(children=(IntProgress(value=0, max=350), HTML(value='')))"
      ]
     },
     "metadata": {},
     "output_type": "display_data"
    },
    {
     "name": "stdout",
     "output_type": "stream",
     "text": [
      "\n"
     ]
    }
   ],
   "source": [
    "# get number of new restaurants in 15 min walking radius\n",
    "num_new_business = []\n",
    "for i in tqdm(range(df_tracts_locs.shape[0])):\n",
    "    lat,lng = df_tracts_locs.INTPTLAT10[i],df_tracts_locs.INTPTLON10[i]\n",
    "    res = search(api_key,term = 'food', attribute='hot_and_new',lat = lat, long = lng, radius = 1000)\n",
    "    num_new_business.append(len(res['businesses']))"
   ]
  },
  {
   "cell_type": "code",
   "execution_count": 146,
   "metadata": {},
   "outputs": [],
   "source": [
    "df_tracts_locs['new_businesses'] = num_new_business"
   ]
  },
  {
   "cell_type": "code",
   "execution_count": 147,
   "metadata": {},
   "outputs": [],
   "source": [
    "df_tracts_locs.to_csv('../../data/processed/OpenData_Alameda/alameda_tracts_with_new_restaurants.csv')"
   ]
  },
  {
   "cell_type": "code",
   "execution_count": null,
   "metadata": {},
   "outputs": [],
   "source": []
  }
 ],
 "metadata": {
  "kernelspec": {
   "display_name": "Python (my_tf_env)",
   "language": "python",
   "name": "myenv"
  },
  "language_info": {
   "codemirror_mode": {
    "name": "ipython",
    "version": 3
   },
   "file_extension": ".py",
   "mimetype": "text/x-python",
   "name": "python",
   "nbconvert_exporter": "python",
   "pygments_lexer": "ipython3",
   "version": "3.6.7"
  }
 },
 "nbformat": 4,
 "nbformat_minor": 2
}
